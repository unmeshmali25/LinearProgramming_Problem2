{
 "cells": [
  {
   "cell_type": "markdown",
   "metadata": {},
   "source": [
    "Created on 11/13/2019\n",
    "\n",
    "@Author: Unmesh"
   ]
  },
  {
   "cell_type": "code",
   "execution_count": 22,
   "metadata": {},
   "outputs": [],
   "source": [
    "import pandas as pd\n",
    "from pulp import *"
   ]
  },
  {
   "cell_type": "code",
   "execution_count": 23,
   "metadata": {},
   "outputs": [],
   "source": [
    "# Creating an object for the LP problem\n",
    "# Note that we have to minimize the function\n",
    "prob = pulp.LpProblem(\"Cost of diet\", pulp.LpMinimize)\n",
    "\n",
    "# Defining decision variables\n",
    "s = LpVariable(\"steak\",0, None, LpInteger), \n",
    "p = LpVariable(\"peanutbutter\",0, None, LpInteger)"
   ]
  },
  {
   "cell_type": "code",
   "execution_count": 24,
   "metadata": {},
   "outputs": [],
   "source": [
    "# Defining the objective function\n",
    "prob += 5*s + 4.5*p, \"Total cost of the diet\""
   ]
  },
  {
   "cell_type": "code",
   "execution_count": 25,
   "metadata": {},
   "outputs": [],
   "source": [
    "# Defining constraints\n",
    "\n",
    "prob += 45*s + 30*p >= 96, \"Total Protein intake should be more than or equal to 96 grams\""
   ]
  },
  {
   "cell_type": "code",
   "execution_count": 26,
   "metadata": {},
   "outputs": [
    {
     "name": "stdout",
     "output_type": "stream",
     "text": [
      "Status:  Optimal\n"
     ]
    }
   ],
   "source": [
    "# Solving to get values of x and y so as to maximize the objective funtion (z)\n",
    "prob.solve()\n",
    "print(\"Status: \", LpStatus[prob.status])"
   ]
  },
  {
   "cell_type": "markdown",
   "metadata": {},
   "source": [
    "So we have an optimal solution to the problem. \n",
    "\n",
    "Let's see what the individual values come out to be"
   ]
  },
  {
   "cell_type": "code",
   "execution_count": 27,
   "metadata": {},
   "outputs": [
    {
     "name": "stdout",
     "output_type": "stream",
     "text": [
      "peanutbutter : 2.0 grams\n",
      "steak : 1.0 grams\n",
      "Total cost of diet : $ 14.0\n"
     ]
    }
   ],
   "source": [
    "# Printing values of x,y, and z after optimization \n",
    "for v in prob.variables():\n",
    "    print(v.name, \":\", v.varValue, 'grams')\n",
    "print(\"Total cost of diet : $\", value(prob.objective))"
   ]
  },
  {
   "cell_type": "code",
   "execution_count": null,
   "metadata": {},
   "outputs": [],
   "source": []
  }
 ],
 "metadata": {
  "kernelspec": {
   "display_name": "Python 3",
   "language": "python",
   "name": "python3"
  },
  "language_info": {
   "codemirror_mode": {
    "name": "ipython",
    "version": 3
   },
   "file_extension": ".py",
   "mimetype": "text/x-python",
   "name": "python",
   "nbconvert_exporter": "python",
   "pygments_lexer": "ipython3",
   "version": "3.7.3"
  }
 },
 "nbformat": 4,
 "nbformat_minor": 4
}
